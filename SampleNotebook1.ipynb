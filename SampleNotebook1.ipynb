{
 "cells": [
  {
   "cell_type": "markdown",
   "id": "83330c72-2c65-488f-bdf5-8b29aca7e1b2",
   "metadata": {},
   "source": [
    "# This is a sample notebook."
   ]
  },
  {
   "cell_type": "code",
   "execution_count": 2,
   "id": "cb51ed81-d190-4b5f-bb69-f2ae8b1e2aa8",
   "metadata": {},
   "outputs": [
    {
     "data": {
      "text/plain": [
       "4.0"
      ]
     },
     "execution_count": 2,
     "metadata": {},
     "output_type": "execute_result"
    }
   ],
   "source": [
    "(1+1)/0.5"
   ]
  },
  {
   "cell_type": "code",
   "execution_count": null,
   "id": "f035bd33-754c-4df9-a832-0db135362c87",
   "metadata": {},
   "outputs": [],
   "source": []
  },
  {
   "cell_type": "code",
   "execution_count": null,
   "id": "72bedaa8-3937-40d2-8a4e-84934a2fc57d",
   "metadata": {},
   "outputs": [],
   "source": []
  }
 ],
 "metadata": {
  "kernelspec": {
   "display_name": "Python 3 (ipykernel)",
   "language": "python",
   "name": "python3"
  },
  "language_info": {
   "codemirror_mode": {
    "name": "ipython",
    "version": 3
   },
   "file_extension": ".py",
   "mimetype": "text/x-python",
   "name": "python",
   "nbconvert_exporter": "python",
   "pygments_lexer": "ipython3",
   "version": "3.10.6"
  }
 },
 "nbformat": 4,
 "nbformat_minor": 5
}
